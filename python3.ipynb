{
  "nbformat": 4,
  "nbformat_minor": 0,
  "metadata": {
    "colab": {
      "provenance": [],
      "authorship_tag": "ABX9TyNX0yas1zCfkmQOMHK9wccz",
      "include_colab_link": true
    },
    "kernelspec": {
      "name": "python3",
      "display_name": "Python 3"
    },
    "language_info": {
      "name": "python"
    }
  },
  "cells": [
    {
      "cell_type": "markdown",
      "metadata": {
        "id": "view-in-github",
        "colab_type": "text"
      },
      "source": [
        "<a href=\"https://colab.research.google.com/github/chinchu6767/chinchana.lab/blob/main/python3.ipynb\" target=\"_parent\"><img src=\"https://colab.research.google.com/assets/colab-badge.svg\" alt=\"Open In Colab\"/></a>"
      ]
    },
    {
      "cell_type": "code",
      "execution_count": 1,
      "metadata": {
        "colab": {
          "base_uri": "https://localhost:8080/"
        },
        "id": "nPGbSHJp2av2",
        "outputId": "14215f88-19bf-452c-9844-61f49eb825fd"
      },
      "outputs": [
        {
          "output_type": "stream",
          "name": "stdout",
          "text": [
            "[6 7 5 8 0 1]\n",
            "Type: <class 'numpy.ndarray'>\n",
            "Shape: (6,)\n",
            "Size: 6\n",
            "Dimensions: 1\n",
            "Data type: int64\n",
            "Item_Size: 8\n",
            "total_memory: = 48 bytes\n"
          ]
        }
      ],
      "source": [
        "import numpy as np\n",
        "# Creating a 1D NumPy array\n",
        "data1 = [6, 7, 5, 8, 0, 1] #it is a list\n",
        "arr1 = np.array(data1) # list --> converts to ndarray\n",
        "print(arr1) # [6 7 5 8 0 1]\n",
        "print(\"Type:\",type(arr1)) # Type: <class 'numpy.ndarray'>\n",
        "print(\"Shape:\", arr1.shape) # Shape: (6,)\n",
        "print(\"Size:\",arr1.size) # Size: 6\n",
        "print(\"Dimensions:\", arr1.ndim) # Dimensions: 1\n",
        "print(\"Data type:\", arr1.dtype) # Data type: int64\n",
        "print(\"Item_Size:\",arr1.itemsize) # size in bytes of each element of the array.\n",
        "print(\"total_memory: =\", arr1.size * arr1.itemsize,\"bytes\")"
      ]
    },
    {
      "cell_type": "code",
      "source": [
        "arr1a = np.array([1,2,3,\"RV\"])\n",
        "arr1a\n",
        "print(arr1a.dtype)\n",
        "arr1a.itemsize\n"
      ],
      "metadata": {
        "colab": {
          "base_uri": "https://localhost:8080/"
        },
        "id": "CUBQh4ys3i5C",
        "outputId": "460a3901-5c3b-4b77-fa87-39826d7a1ac1"
      },
      "execution_count": 2,
      "outputs": [
        {
          "output_type": "stream",
          "name": "stdout",
          "text": [
            "<U21\n"
          ]
        },
        {
          "output_type": "execute_result",
          "data": {
            "text/plain": [
              "84"
            ]
          },
          "metadata": {},
          "execution_count": 2
        }
      ]
    },
    {
      "cell_type": "code",
      "source": [
        "import numpy as np\n",
        "# Creating a 2D NumPy array from a list of lists\n",
        "data2 = [[1, 2, 3, 4], [5, 6, 7, 8]]\n",
        "arr2 = np.array(data2)\n",
        "print(arr2)\n",
        "print(\"Dimensions:\", arr2.ndim) # Output: 2\n",
        "print(\"Shape:\", arr2.shape) # Output: (2,4)\n",
        "print(arr2[1]) # [5,6,7,8]"
      ],
      "metadata": {
        "colab": {
          "base_uri": "https://localhost:8080/"
        },
        "id": "lYvuKw-L4D9i",
        "outputId": "15bd17c3-a867-480f-d80d-9f929f4234dc"
      },
      "execution_count": 30,
      "outputs": [
        {
          "output_type": "stream",
          "name": "stdout",
          "text": [
            "[[1 2 3 4]\n",
            " [5 6 7 8]]\n",
            "Dimensions: 2\n",
            "Shape: (2, 4)\n",
            "[5 6 7 8]\n"
          ]
        }
      ]
    },
    {
      "cell_type": "code",
      "source": [
        "d1 = np.array([1, 2, 3, 4, 5, 6, 7, 8, 9, 10, 11, 12])\n",
        "# 2D array\n",
        "d2 = np.array([[1, 2, 3], [4, 5, 6], [7, 8, 9], [10, 11, 12]])\n",
        "# 3D array\n",
        "d3 = np.array([[[1, 2, 3], [4, 5, 6]], [[7, 8, 9], [10, 11, 12]]])\n",
        "print(\"Shape of 1D array:\", d1.shape)\n",
        "print(\"Shape of 2D array:\", d2.shape)\n",
        "print(\"Shape of 3D array:\", d3.shape)"
      ],
      "metadata": {
        "colab": {
          "base_uri": "https://localhost:8080/"
        },
        "id": "kCkCEJuh46hM",
        "outputId": "c2b7fc3e-a7cf-42eb-873e-507692fc3c08"
      },
      "execution_count": 4,
      "outputs": [
        {
          "output_type": "stream",
          "name": "stdout",
          "text": [
            "Shape of 1D array: (12,)\n",
            "Shape of 2D array: (4, 3)\n",
            "Shape of 3D array: (2, 2, 3)\n"
          ]
        }
      ]
    },
    {
      "cell_type": "code",
      "source": [
        "np.ones()\n"
      ],
      "metadata": {
        "colab": {
          "base_uri": "https://localhost:8080/",
          "height": 144
        },
        "id": "Gm530Dl_5luA",
        "outputId": "dfd4845c-6d3f-409b-c254-6ea53bb6b6aa"
      },
      "execution_count": 5,
      "outputs": [
        {
          "output_type": "error",
          "ename": "TypeError",
          "evalue": "ones() missing 1 required positional argument: 'shape'",
          "traceback": [
            "\u001b[0;31m---------------------------------------------------------------------------\u001b[0m",
            "\u001b[0;31mTypeError\u001b[0m                                 Traceback (most recent call last)",
            "\u001b[0;32m<ipython-input-5-3e9e74468e5d>\u001b[0m in \u001b[0;36m<cell line: 0>\u001b[0;34m()\u001b[0m\n\u001b[0;32m----> 1\u001b[0;31m \u001b[0mnp\u001b[0m\u001b[0;34m.\u001b[0m\u001b[0mones\u001b[0m\u001b[0;34m(\u001b[0m\u001b[0;34m)\u001b[0m\u001b[0;34m\u001b[0m\u001b[0;34m\u001b[0m\u001b[0m\n\u001b[0m",
            "\u001b[0;31mTypeError\u001b[0m: ones() missing 1 required positional argument: 'shape'"
          ]
        }
      ]
    },
    {
      "cell_type": "code",
      "source": [
        "array1 = np.array([[0, 1, 2], [2, 3, 4]]) # Manual creation\n",
        "array2 = np.array( [ [1,2], [3,4] ], dtype=float) # Specifying data type\n",
        "array3 = np.zeros((2, 3)) # Array of zeros\n",
        "array4 = np.ones((2, 6)) # Array of ones\n",
        "array5 = np.eye(3) # Identity matrix\n",
        "array6 = np.arange(0, 10, 2) # Sequence from 0 to 8 with step 2\n",
        "array7 = np.linspace(4, 10, 5) # create 5 elements in between 0 to 10 with equal space\n",
        "array8 = np.random.randint(0, 10, (6, 3)) # Random integers in a 3x3 array\n",
        "print(array1, \"\\n\")\n",
        "print(array2, \"\\n\")\n",
        "print(array3, \"\\n\")\n",
        "print(array4, \"\\n\")\n",
        "print(array5, \"\\n\")\n",
        "print(array6, \"\\n\")\n",
        "print(array7, \"\\n\")\n",
        "print(array8, \"\\n\")"
      ],
      "metadata": {
        "colab": {
          "base_uri": "https://localhost:8080/"
        },
        "id": "uZ9imlXP5ugb",
        "outputId": "91ddca56-02ae-408f-86b3-a1379157da0f"
      },
      "execution_count": 26,
      "outputs": [
        {
          "output_type": "stream",
          "name": "stdout",
          "text": [
            "[[0 1 2]\n",
            " [2 3 4]] \n",
            "\n",
            "[[1. 2.]\n",
            " [3. 4.]] \n",
            "\n",
            "[[0. 0. 0.]\n",
            " [0. 0. 0.]] \n",
            "\n",
            "[[1. 1. 1. 1. 1. 1.]\n",
            " [1. 1. 1. 1. 1. 1.]] \n",
            "\n",
            "[[1. 0. 0.]\n",
            " [0. 1. 0.]\n",
            " [0. 0. 1.]] \n",
            "\n",
            "[0 2 4 6 8] \n",
            "\n",
            "[ 4.   5.5  7.   8.5 10. ] \n",
            "\n",
            "[[6 5 1]\n",
            " [2 8 8]\n",
            " [6 2 4]\n",
            " [5 7 3]\n",
            " [5 8 3]\n",
            " [8 5 1]] \n",
            "\n"
          ]
        }
      ]
    },
    {
      "cell_type": "code",
      "source": [
        "random_array = np.random.randint(1,27,5)\n",
        "print(random_array)"
      ],
      "metadata": {
        "colab": {
          "base_uri": "https://localhost:8080/"
        },
        "id": "0FVJS88m6Wd_",
        "outputId": "201c8673-5879-4fac-c6af-1d04cff52316"
      },
      "execution_count": 24,
      "outputs": [
        {
          "output_type": "stream",
          "name": "stdout",
          "text": [
            "[ 1 20 22 20 12]\n"
          ]
        }
      ]
    },
    {
      "cell_type": "code",
      "source": [
        "random_array = np.random.random((6,5))\n",
        "print(random_array)"
      ],
      "metadata": {
        "colab": {
          "base_uri": "https://localhost:8080/"
        },
        "id": "2Rx5iveN6tVo",
        "outputId": "e97a1a5c-9390-47ce-dcd3-e9e0f2e697ee"
      },
      "execution_count": 8,
      "outputs": [
        {
          "output_type": "stream",
          "name": "stdout",
          "text": [
            "[[0.26640534 0.57349389 0.311512   0.53466524 0.09921188]\n",
            " [0.38930152 0.89132866 0.20466838 0.8907601  0.69149028]]\n"
          ]
        }
      ]
    },
    {
      "cell_type": "code",
      "source": [
        "\n",
        "np.random.seed(seed=13)\n",
        "random_array = np.random.random((2,6))\n",
        "print(random_array)"
      ],
      "metadata": {
        "colab": {
          "base_uri": "https://localhost:8080/"
        },
        "id": "ZJr31jB778UC",
        "outputId": "041af4ec-0942-438b-974b-b8c1625622aa"
      },
      "execution_count": 23,
      "outputs": [
        {
          "output_type": "stream",
          "name": "stdout",
          "text": [
            "[[0.77770241 0.23754122 0.82427853 0.9657492  0.97260111 0.45344925]\n",
            " [0.60904246 0.77552651 0.64161334 0.72201823 0.03503652 0.29844947]]\n"
          ]
        }
      ]
    },
    {
      "cell_type": "code",
      "source": [
        "import numpy as np\n",
        "arr = np.arange(10)\n",
        "print(\"Original array:\", arr)\n",
        "print(\"Element at index 5:\", arr[4])\n",
        "print(\"Slice from index 5 to 8:\", arr[4:8])\n",
        "arr[5:8] = 19\n",
        "print(\"Modified array:\", arr)"
      ],
      "metadata": {
        "colab": {
          "base_uri": "https://localhost:8080/"
        },
        "id": "L97Lzh5j8n4o",
        "outputId": "9f559eae-4253-4dc8-9fd1-4dad9e9e70ad"
      },
      "execution_count": 22,
      "outputs": [
        {
          "output_type": "stream",
          "name": "stdout",
          "text": [
            "Original array: [0 1 2 3 4 5 6 7 8 9]\n",
            "Element at index 5: 4\n",
            "Slice from index 5 to 8: [4 5 6 7]\n",
            "Modified array: [ 0  1  2  3  4 19 19 19  8  9]\n"
          ]
        }
      ]
    },
    {
      "cell_type": "code",
      "source": [
        "arr_2d = np.array([[1,2,3],[4,5,6]])\n",
        "print(\"Original array:\", arr_2d)\n",
        "print(\"Original array:\", arr_2d.ndim)\n",
        "print(\"Element at index 0:\", arr_2d[0])\n",
        "print(\"Slice from index at 0 form 1 to 3:\", arr_2d[0,1:3])\n",
        "arr_2d[1, 1] = 18\n",
        "print(\"Modified array:\", arr_2d)"
      ],
      "metadata": {
        "colab": {
          "base_uri": "https://localhost:8080/"
        },
        "id": "GdbCBwUt8zpd",
        "outputId": "c195d867-5aec-4ef2-8e27-519d66746bea"
      },
      "execution_count": 21,
      "outputs": [
        {
          "output_type": "stream",
          "name": "stdout",
          "text": [
            "Original array: [[1 2 3]\n",
            " [4 5 6]]\n",
            "Original array: 2\n",
            "Element at index 0: [1 2 3]\n",
            "Slice from index at 0 form 1 to 3: [2 3]\n",
            "Modified array: [[ 1  2  3]\n",
            " [ 4 18  6]]\n"
          ]
        }
      ]
    },
    {
      "cell_type": "code",
      "source": [
        "import numpy as np\n",
        "\n",
        "# Create a 2D array\n",
        "arr = np.array([[1, 2, 3, 4],\n",
        "                [5, 6, 7, 8],\n",
        "                [9, 10, 11, 12]])\n",
        "\n",
        "print(\"Original Array:\\n\", arr)\n",
        "\n",
        "# Slice the first row\n",
        "row_slice = arr[0, :]  # Equivalent to arr[0]\n",
        "\n",
        "# Slice the second column\n",
        "col_slice = arr[:, -1]\n",
        "\n",
        "# Slice a submatrix (rows 1-2, columns 2-3)\n",
        "submatrix = arr[0:5 ,5:4]\n",
        "\n",
        "print(\"\\nFirst Row:\", row_slice)\n",
        "print(\"Second Column:\", col_slice)\n",
        "print(\"Submatrix:\\n\", submatrix)"
      ],
      "metadata": {
        "colab": {
          "base_uri": "https://localhost:8080/"
        },
        "id": "JjLDNJ9t9ED7",
        "outputId": "8a90f080-09a1-43d6-ec89-ba7f1613eab5"
      },
      "execution_count": 20,
      "outputs": [
        {
          "output_type": "stream",
          "name": "stdout",
          "text": [
            "Original Array:\n",
            " [[ 1  2  3  4]\n",
            " [ 5  6  7  8]\n",
            " [ 9 10 11 12]]\n",
            "\n",
            "First Row: [1 2 3 4]\n",
            "Second Column: [ 4  8 12]\n",
            "Submatrix:\n",
            " []\n"
          ]
        }
      ]
    },
    {
      "cell_type": "code",
      "source": [
        "import numpy as np\n",
        "\n",
        "# Create a 2D array\n",
        "arr = np.array([[13, 2, 53, 4],\n",
        "                [5, 6, 97, 8],\n",
        "                [9, 10, 141, 12]])\n",
        "\n",
        "# Slice every second row and column\n",
        "sliced_arr = arr[::2, ::2]\n",
        "\n",
        "print(\"Sliced Array with Steps:\\n\", sliced_arr)"
      ],
      "metadata": {
        "colab": {
          "base_uri": "https://localhost:8080/"
        },
        "id": "BhS9P0wa9rWH",
        "outputId": "e6667cbe-d2ea-419a-f8b4-d74a53cdd0a9"
      },
      "execution_count": 17,
      "outputs": [
        {
          "output_type": "stream",
          "name": "stdout",
          "text": [
            "Sliced Array with Steps:\n",
            " [[ 13  53]\n",
            " [  9 141]]\n"
          ]
        }
      ]
    },
    {
      "cell_type": "code",
      "source": [
        "arr_3 = np.array([[4., 2., 38], [4., 52., 65.], [7., 8., 97.], [1., 36., 52.]])\n",
        "arr_tranp = arr_3.transpose()\n",
        "print(\"Original matrix:\\n\", arr_3)\n",
        "print(\"Transpose matrix:\\n\", arr_tranp)"
      ],
      "metadata": {
        "colab": {
          "base_uri": "https://localhost:8080/"
        },
        "id": "9Wtc_FTD9wMJ",
        "outputId": "76eff56a-aceb-40c9-8d31-79d06118a2fe"
      },
      "execution_count": 15,
      "outputs": [
        {
          "output_type": "stream",
          "name": "stdout",
          "text": [
            "Original matrix:\n",
            " [[ 4.  2. 38.]\n",
            " [ 4. 52. 65.]\n",
            " [ 7.  8. 97.]\n",
            " [ 1. 36. 52.]]\n",
            "Transpose matrix:\n",
            " [[ 4.  4.  7.  1.]\n",
            " [ 2. 52.  8. 36.]\n",
            " [38. 65. 97. 52.]]\n"
          ]
        }
      ]
    },
    {
      "cell_type": "code",
      "source": [
        "arr = np.array([5, 2, 8, 1, 3])\n",
        "arr2D = np.array([[3, 2, 1], [6, 5, 4]])\n",
        "# Sorting in ascending order (default)\n",
        "sorted_arr = np.sort(arr)\n",
        "print(sorted_arr) # Output: [1 2 3 5 8]\n",
        "# Sorting in descending order\n",
        "sorted_desc = np.sort(arr)[::-1]\n",
        "print(sorted_desc) # Output: [8 5 3 2 1]\n",
        "# Sort each row\n",
        "sorted_rows = np.sort(arr2D, axis=0) # [[1 2 3]\n",
        "print(sorted_rows) # [4 5 6]]\n",
        "# Sort each row # Output:\n",
        "sorted_cols = np.sort(arr2D, axis=1) # [[3 2 1]\n",
        "print(sorted_cols) # [6 5 4]]"
      ],
      "metadata": {
        "colab": {
          "base_uri": "https://localhost:8080/"
        },
        "id": "FIQGq-a9BDEv",
        "outputId": "6307b431-de35-4e1c-bb97-5a41eb5e6270"
      },
      "execution_count": 31,
      "outputs": [
        {
          "output_type": "stream",
          "name": "stdout",
          "text": [
            "[1 2 3 5 8]\n",
            "[8 5 3 2 1]\n",
            "[[3 2 1]\n",
            " [6 5 4]]\n",
            "[[1 2 3]\n",
            " [4 5 6]]\n"
          ]
        }
      ]
    },
    {
      "cell_type": "code",
      "source": [
        "# Create a 1D array with 12 elements\n",
        "arr = np.arange(24) # [0, 1, 2, ..., 11]\n",
        "# Reshape into a 3x4 array\n",
        "reshaped_arr = arr.reshape(6, 4)\n",
        "print(\"Original Array (1D):\\n\", arr)\n",
        "print(\"Reshaped Array (3x4):\\n\", reshaped_arr)\n",
        "# Reshape into a 2x3x4 array (2 layers, 3 rows, 4 columns)\n",
        "reshaped_arr_3D = arr.reshape(2, 3, 4)\n",
        "print(\"Reshaped Array (2x3x4):\\n\", reshaped_arr_3D)"
      ],
      "metadata": {
        "colab": {
          "base_uri": "https://localhost:8080/"
        },
        "id": "DvCVkWHfBJPF",
        "outputId": "107efc34-d942-47b7-ed45-33fec892e229"
      },
      "execution_count": 32,
      "outputs": [
        {
          "output_type": "stream",
          "name": "stdout",
          "text": [
            "Original Array (1D):\n",
            " [ 0  1  2  3  4  5  6  7  8  9 10 11 12 13 14 15 16 17 18 19 20 21 22 23]\n",
            "Reshaped Array (3x4):\n",
            " [[ 0  1  2  3]\n",
            " [ 4  5  6  7]\n",
            " [ 8  9 10 11]\n",
            " [12 13 14 15]\n",
            " [16 17 18 19]\n",
            " [20 21 22 23]]\n",
            "Reshaped Array (2x3x4):\n",
            " [[[ 0  1  2  3]\n",
            "  [ 4  5  6  7]\n",
            "  [ 8  9 10 11]]\n",
            "\n",
            " [[12 13 14 15]\n",
            "  [16 17 18 19]\n",
            "  [20 21 22 23]]]\n"
          ]
        }
      ]
    },
    {
      "cell_type": "code",
      "source": [
        "import numpy as np\n",
        "\n",
        "# Create a row matrix (1D array)\n",
        "row_matrix = np.array([1, 2, 3, 4])\n",
        "\n",
        "# Reshape into a column matrix (2D array with shape (4, 1))\n",
        "column_matrix = row_matrix.reshape(-1, 1)\n",
        "\n",
        "print(\"Row Matrix:\\n\", row_matrix)\n",
        "print(\"Column Matrix:\\n\", column_matrix)"
      ],
      "metadata": {
        "colab": {
          "base_uri": "https://localhost:8080/"
        },
        "id": "KJqcyT4VBKp9",
        "outputId": "0ca58a72-4673-43c7-c8ec-ebd4a1d8498b"
      },
      "execution_count": 33,
      "outputs": [
        {
          "output_type": "stream",
          "name": "stdout",
          "text": [
            "Row Matrix:\n",
            " [1 2 3 4]\n",
            "Column Matrix:\n",
            " [[1]\n",
            " [2]\n",
            " [3]\n",
            " [4]]\n"
          ]
        }
      ]
    },
    {
      "cell_type": "code",
      "source": [
        "import numpy as np\n",
        "arr = np.array([[1., 2., 3.], [4., 5., 6.]])\n",
        "arr2 = np.array([[0., 4., 1.], [7., 2., 12.]])\n",
        "print(\"Element-wise addition:\\n\", arr + 2)\n",
        "print(\"Element-wise multiplication:\\n\", arr * 2)\n",
        "print(\"Element-wise exponentiation:\\n\", arr ** 2)\n",
        "print(\"Comparison:\\n\", arr2 > arr)"
      ],
      "metadata": {
        "colab": {
          "base_uri": "https://localhost:8080/"
        },
        "id": "KBfATeMNBUk7",
        "outputId": "a6574d8d-e577-44ae-b5be-ab593e048cb6"
      },
      "execution_count": 37,
      "outputs": [
        {
          "output_type": "stream",
          "name": "stdout",
          "text": [
            "Element-wise addition:\n",
            " [[3. 4. 5.]\n",
            " [6. 7. 8.]]\n",
            "Element-wise multiplication:\n",
            " [[ 2.  4.  6.]\n",
            " [ 8. 10. 12.]]\n",
            "Element-wise exponentiation:\n",
            " [[ 1.  4.  9.]\n",
            " [16. 25. 36.]]\n",
            "Comparison:\n",
            " [[False  True False]\n",
            " [ True False  True]]\n"
          ]
        }
      ]
    },
    {
      "cell_type": "code",
      "source": [
        "arr_1 = np.array([[1., 2., 3.], [4., 5., 6.]])\n",
        "arr_2 = np.array([[7., 8., 9.], [1., 3., 5.]])\n",
        "print(\"Original array:\\n\", arr_1, arr_2)\n",
        "print(\"Element-wise addition:\\n\", arr_1 + arr_2)\n",
        "print(\"Element-wise subtraction:\\n\", arr_1 - arr_2)\n",
        "print(\"Element-wise multiplication:\\n\", arr_1 * arr_2) # np.multiply(arr_1,arr_2)\n"
      ],
      "metadata": {
        "colab": {
          "base_uri": "https://localhost:8080/"
        },
        "id": "TYa4PcUQBV6q",
        "outputId": "92ed6bec-73d4-4e9d-a470-0a452d60e606"
      },
      "execution_count": 35,
      "outputs": [
        {
          "output_type": "stream",
          "name": "stdout",
          "text": [
            "Original array:\n",
            " [[1. 2. 3.]\n",
            " [4. 5. 6.]] [[7. 8. 9.]\n",
            " [1. 3. 5.]]\n",
            "Element-wise addition:\n",
            " [[ 8. 10. 12.]\n",
            " [ 5.  8. 11.]]\n",
            "Element-wise subtraction:\n",
            " [[-6. -6. -6.]\n",
            " [ 3.  2.  1.]]\n",
            "Element-wise multiplication:\n",
            " [[ 7. 16. 27.]\n",
            " [ 4. 15. 30.]]\n"
          ]
        }
      ]
    }
  ]
}